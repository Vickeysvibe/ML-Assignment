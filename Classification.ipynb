{
 "cells": [
  {
   "cell_type": "code",
   "execution_count": 31,
   "id": "d5a5af07-790e-4e95-9700-6de3c0337bea",
   "metadata": {},
   "outputs": [],
   "source": [
    "import numpy as np\n",
    "from collections import Counter\n",
    "\n",
    "class SimpleKNNClassifier:\n",
    "    def __init__(self, k=3):\n",
    "        self.k = k\n",
    "        self.X_train = None\n",
    "        self.y_train = None\n",
    "    \n",
    "    def fit(self, X, y):\n",
    "        self.X_train = X\n",
    "        self.y_train = y\n",
    "    \n",
    "    def euclidean_distance(self, x1, x2):\n",
    "        return np.sqrt(np.sum((x1 - x2) ** 2))\n",
    "    \n",
    "    def predict(self, X):\n",
    "        predictions = []\n",
    "        for sample in X:\n",
    "            distances = []\n",
    "            for idx, train_sample in enumerate(self.X_train):\n",
    "                dist = self.euclidean_distance(sample, train_sample)\n",
    "                distances.append((dist, self.y_train[idx]))\n",
    "            \n",
    "            # Sort distances and get top k\n",
    "            distances.sort(key=lambda x: x[0])\n",
    "            k_nearest = distances[:self.k]\n",
    "            \n",
    "            # Get most common class among k nearest neighbors\n",
    "            k_nearest_labels = [label for _, label in k_nearest]\n",
    "            most_common = Counter(k_nearest_labels).most_common(1)\n",
    "            predictions.append(most_common[0][0])\n",
    "        \n",
    "        return np.array(predictions)\n",
    "\n",
    "# Data preprocessing\n",
    "def preprocess_data(data):\n",
    "    \"\"\"Prepare data for classification\"\"\"\n",
    "    # Remove rows with missing values\n",
    "    clean_data = data.dropna()\n",
    "    \n",
    "    # Select features for classification\n",
    "    features = ['culmen_length_mm', 'culmen_depth_mm', 'flipper_length_mm', 'body_mass_g']\n",
    "    X = clean_data[features].values\n",
    "    y = clean_data['species'].values\n",
    "    \n",
    "    # Normalize features\n",
    "    X_normalized = (X - X.mean(axis=0)) / X.std(axis=0)\n",
    "    \n",
    "    return X_normalized, y\n",
    "\n",
    "# Example usage\n",
    "def evaluate_model(X, y, test_size=0.2):\n",
    "    # Randomly shuffle data\n",
    "    indices = np.random.permutation(len(X))\n",
    "    test_size = int(len(X) * test_size)\n",
    "    \n",
    "    # Split into train and test sets\n",
    "    train_indices = indices[test_size:]\n",
    "    test_indices = indices[:test_size]\n",
    "    \n",
    "    X_train = X[train_indices]\n",
    "    y_train = y[train_indices]\n",
    "    X_test = X[test_indices]\n",
    "    y_test = y[test_indices]\n",
    "    \n",
    "    # Train and evaluate model\n",
    "    model = SimpleKNNClassifier(k=3)\n",
    "    model.fit(X_train, y_train)\n",
    "    predictions = model.predict(X_test)\n",
    "    \n",
    "    # Calculate accuracy\n",
    "    accuracy = np.mean(predictions == y_test)\n",
    "    \n",
    "    return accuracy, model"
   ]
  },
  {
   "cell_type": "code",
   "execution_count": 32,
   "id": "3f240a77-50c9-493c-8902-2a24279336d6",
   "metadata": {},
   "outputs": [
    {
     "name": "stdout",
     "output_type": "stream",
     "text": [
      "Model accuracy: 1.00\n"
     ]
    }
   ],
   "source": [
    "import pandas as pd\n",
    "\n",
    "# Read and preprocess data\n",
    "data = pd.read_csv('penguins.csv')\n",
    "X_normalized, y = preprocess_data(data)\n",
    "\n",
    "# Train and evaluate model\n",
    "accuracy, model = evaluate_model(X_normalized, y)\n",
    "print(f\"Model accuracy: {accuracy:.2f}\")"
   ]
  },
  {
   "cell_type": "code",
   "execution_count": null,
   "id": "742f1815-8153-4840-aed9-963b6e783d01",
   "metadata": {},
   "outputs": [],
   "source": []
  }
 ],
 "metadata": {
  "kernelspec": {
   "display_name": "Python 3",
   "language": "python",
   "name": "python3"
  },
  "language_info": {
   "codemirror_mode": {
    "name": "ipython",
    "version": 3
   },
   "file_extension": ".py",
   "mimetype": "text/x-python",
   "name": "python",
   "nbconvert_exporter": "python",
   "pygments_lexer": "ipython3",
   "version": "3.11.4"
  }
 },
 "nbformat": 4,
 "nbformat_minor": 5
}
